{
  "nbformat": 4,
  "nbformat_minor": 0,
  "metadata": {
    "colab": {
      "provenance": [],
      "authorship_tag": "ABX9TyM2QWN7J9uCPCOmsbkW//QD",
      "include_colab_link": true
    },
    "kernelspec": {
      "name": "python3",
      "display_name": "Python 3"
    },
    "language_info": {
      "name": "python"
    }
  },
  "cells": [
    {
      "cell_type": "markdown",
      "metadata": {
        "id": "view-in-github",
        "colab_type": "text"
      },
      "source": [
        "<a href=\"https://colab.research.google.com/github/angad2212/Challenege_Questions/blob/main/Untitled2.ipynb\" target=\"_parent\"><img src=\"https://colab.research.google.com/assets/colab-badge.svg\" alt=\"Open In Colab\"/></a>"
      ]
    },
    {
      "cell_type": "code",
      "execution_count": 4,
      "metadata": {
        "colab": {
          "base_uri": "https://localhost:8080/"
        },
        "id": "NN4EkzoEuX9E",
        "outputId": "ab072075-dba3-4bdf-9cf9-a3feee4315d7"
      },
      "outputs": [
        {
          "output_type": "stream",
          "name": "stdout",
          "text": [
            "['Ram', 1, 'Shyam', 2, 'Aman', 3]\n",
            "[1, 2, 3, 'Aman', 'Ram', 'Shyam']\n"
          ]
        }
      ],
      "source": [
        "#Sorting of a Heterogenous List\n",
        "L=[\"Ram\", 1, \"Shyam\", 2, \"Aman\", 3]\n",
        "print(L)\n",
        "#L.sort() #this gives an error due to the perence of a heterogenous list \n",
        "#print(L)\n",
        "sorted_list = sorted(L, key=lambda x: str(x) if isinstance(x, int) else x)\n",
        "#the above 'lambda x' expression converts each element to a string if it is an integer, otherwise it keeps the element as is.\n",
        "print(sorted_list)"
      ]
    }
  ]
}